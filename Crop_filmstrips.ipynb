{
 "cells": [
  {
   "cell_type": "code",
   "execution_count": 1,
   "id": "brilliant-trick",
   "metadata": {},
   "outputs": [],
   "source": [
    "from PIL import Image\n",
    "import sys\n",
    "import PIL\n",
    "import os\n",
    "\n",
    "center_x    = 102\n",
    "center_y    = 58.5\n",
    "\n",
    "directory = 'path'\n",
    "\n",
    "for filename in os.listdir(directory):\n",
    "    if filename.endswith(\".jpg\"):\n",
    "        for i in range(14):\n",
    "            center_x    = 102\n",
    "            center_y    = 58.5\n",
    "\n",
    "            half_width       = 90\n",
    "            half_height      = 55\n",
    "\n",
    "    #cropped = imageObject.crop((200, 100, 400, 300))\n",
    "\n",
    "            imageObject = Image.open(os.path.join(directory, filename))\n",
    "        \n",
    "            cropped = imageObject.crop((center_x - half_width,\n",
    "                                        center_y - half_height,\n",
    "                                        center_x + half_width,\n",
    "                                        center_y + half_height,\n",
    "                                        ))\n",
    "            center_x += 200\n",
    "            cropped.save(filename +str(i)+'.jpg')\n",
    "\n",
    "            continue\n",
    "        else:\n",
    "            continue"
   ]
  }
 ],
 "metadata": {
  "kernelspec": {
   "display_name": "Python 3",
   "language": "python",
   "name": "python3"
  },
  "language_info": {
   "codemirror_mode": {
    "name": "ipython",
    "version": 3
   },
   "file_extension": ".py",
   "mimetype": "text/x-python",
   "name": "python",
   "nbconvert_exporter": "python",
   "pygments_lexer": "ipython3",
   "version": "3.7.0"
  }
 },
 "nbformat": 4,
 "nbformat_minor": 5
}
